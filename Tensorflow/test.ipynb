{
 "cells": [
  {
   "cell_type": "code",
   "execution_count": 20,
   "metadata": {},
   "outputs": [
    {
     "name": "stdout",
     "output_type": "stream",
     "text": [
      "2.3.0\n"
     ]
    }
   ],
   "source": [
    "import tensorflow as tf\n",
    "import numpy as np\n",
    "import tensorflow.keras.layers as layers\n",
    "print(tf.__version__)"
   ]
  },
  {
   "cell_type": "code",
   "execution_count": 5,
   "metadata": {},
   "outputs": [
    {
     "ename": "AttributeError",
     "evalue": "module 'tensorflow' has no attribute 'Sess'",
     "output_type": "error",
     "traceback": [
      "\u001b[1;31m---------------------------------------------------------------------------\u001b[0m",
      "\u001b[1;31mAttributeError\u001b[0m                            Traceback (most recent call last)",
      "\u001b[1;32m<ipython-input-5-19475c745a92>\u001b[0m in \u001b[0;36m<module>\u001b[1;34m\u001b[0m\n\u001b[0;32m      3\u001b[0m \u001b[0moutput\u001b[0m \u001b[1;33m=\u001b[0m \u001b[0mtf\u001b[0m\u001b[1;33m.\u001b[0m\u001b[0mmultiply\u001b[0m\u001b[1;33m(\u001b[0m\u001b[0minput1\u001b[0m\u001b[1;33m,\u001b[0m \u001b[0minput2\u001b[0m\u001b[1;33m)\u001b[0m\u001b[1;33m\u001b[0m\u001b[1;33m\u001b[0m\u001b[0m\n\u001b[0;32m      4\u001b[0m \u001b[1;33m\u001b[0m\u001b[0m\n\u001b[1;32m----> 5\u001b[1;33m \u001b[1;32mwith\u001b[0m \u001b[0mtf\u001b[0m\u001b[1;33m.\u001b[0m\u001b[0mSess\u001b[0m\u001b[1;33m(\u001b[0m\u001b[1;33m)\u001b[0m \u001b[1;32mas\u001b[0m \u001b[0msess\u001b[0m\u001b[1;33m:\u001b[0m\u001b[1;33m\u001b[0m\u001b[1;33m\u001b[0m\u001b[0m\n\u001b[0m\u001b[0;32m      6\u001b[0m     \u001b[0mresult\u001b[0m \u001b[1;33m=\u001b[0m \u001b[0msess\u001b[0m\u001b[1;33m.\u001b[0m\u001b[0mrun\u001b[0m\u001b[1;33m(\u001b[0m\u001b[0mout\u001b[0m\u001b[1;33m)\u001b[0m\u001b[1;33m\u001b[0m\u001b[1;33m\u001b[0m\u001b[0m\n\u001b[0;32m      7\u001b[0m     \u001b[0mprint\u001b[0m\u001b[1;33m(\u001b[0m\u001b[0mresult\u001b[0m\u001b[1;33m)\u001b[0m\u001b[1;33m\u001b[0m\u001b[1;33m\u001b[0m\u001b[0m\n",
      "\u001b[1;31mAttributeError\u001b[0m: module 'tensorflow' has no attribute 'Sess'"
     ]
    }
   ],
   "source": [
    "input1 = tf.Variable(initial_value=[1.0], name='v1')\n",
    "input2 = tf.Variable(initial_value=[2.0], name='v2')\n",
    "output = tf.multiply(input1, input2)\n",
    "\n",
    "with tf.Sess() as sess:\n",
    "    result = sess.run(out)\n",
    "    print(result)"
   ]
  },
  {
   "cell_type": "code",
   "execution_count": 19,
   "metadata": {},
   "outputs": [
    {
     "name": "stdout",
     "output_type": "stream",
     "text": [
      "[12, 22]\n",
      "<class 'list'>\n"
     ]
    },
    {
     "data": {
      "text/plain": [
       "TensorShape([1, 3])"
      ]
     },
     "execution_count": 19,
     "metadata": {},
     "output_type": "execute_result"
    }
   ],
   "source": [
    "def compute_output_shape(input_shape, output_dim):\n",
    "    shape = tf.TensorShape(input_shape).as_list()\n",
    "    print(shape)\n",
    "    print(type(shape))\n",
    "    shape[-1] = output_dim\n",
    "    return tf.TensorShape(shape)\n",
    "\n",
    "compute_output_shape([12, 22], 10)\n",
    "tf.TensorShape([1, 3])"
   ]
  },
  {
   "cell_type": "code",
   "execution_count": 9,
   "metadata": {},
   "outputs": [],
   "source": [
    "import tensorflow as tf\n",
    "from tensorflow.keras.optimizers import SGD\n",
    "from tensorflow.keras.datasets import mnist\n",
    "\n",
    "def Lenet():\n",
    "    Convolution2D = tf.keras.layers.Convolution2D\n",
    "    MaxPooling2D = tf.keras.layers.MaxPooling2D\n",
    "    Flatten = tf.keras.layers.Flatten\n",
    "    Dense = tf.keras.layers.Dense\n",
    "\n",
    "    model = tf.keras.Sequential()\n",
    "\n",
    "\n",
    "    model.add(Convolution2D(\n",
    "        filters = 20,\n",
    "        kernel_size = (3, 3),\n",
    "        strides = (1, 1),\n",
    "        padding = 'valid',\n",
    "        activation = 'relu',\n",
    "        input_shape = (28, 28, 1)\n",
    "    ))\n",
    "\n",
    "    model.add(MaxPooling2D(\n",
    "        pool_size = (2, 2),\n",
    "        strides = (2, 2),\n",
    "        padding = 'valid',\n",
    "    ))\n",
    "\n",
    "    model.add(Convolution2D(\n",
    "        filters = 50,\n",
    "        kernel_size = (3, 3),\n",
    "        strides = (1, 1),\n",
    "        activation = 'relu',\n",
    "    ))\n",
    "\n",
    "    model.add(MaxPooling2D(\n",
    "        pool_size = (2, 2),\n",
    "        strides = (2, 2),\n",
    "    ))\n",
    "\n",
    "    model.add(Flatten())\n",
    "\n",
    "    model.add(Dense(\n",
    "        units = 500,\n",
    "        activation = 'relu',\n",
    "    ))\n",
    "\n",
    "    model.add(Dense(\n",
    "        units = 10,\n",
    "        activation = 'softmax'\n",
    "    ))\n",
    "\n",
    "    return model"
   ]
  },
  {
   "cell_type": "code",
   "execution_count": 2,
   "metadata": {},
   "outputs": [],
   "source": [
    "dataset = mnist.load_data()"
   ]
  },
  {
   "cell_type": "code",
   "execution_count": 3,
   "metadata": {},
   "outputs": [
    {
     "name": "stdout",
     "output_type": "stream",
     "text": [
      "(60000, 28, 28)\n"
     ]
    },
    {
     "data": {
      "text/plain": [
       "60000"
      ]
     },
     "execution_count": 3,
     "metadata": {},
     "output_type": "execute_result"
    }
   ],
   "source": [
    "train_data = dataset[0][0]\n",
    "print(train_data.shape)\n",
    "len(dataset[0][1])"
   ]
  },
  {
   "cell_type": "code",
   "execution_count": 36,
   "metadata": {},
   "outputs": [],
   "source": [
    "import matplotlib.pyplot as plt"
   ]
  },
  {
   "cell_type": "code",
   "execution_count": 42,
   "metadata": {},
   "outputs": [
    {
     "data": {
      "image/png": "[encoded data removed]",
      "text/plain": [
       "<Figure size 432x288 with 1 Axes>"
      ]
     },
     "metadata": {
      "needs_background": "light"
     },
     "output_type": "display_data"
    }
   ],
   "source": [
    "plt.imshow(train_data[0])\n",
    "plt.show()"
   ]
  },
  {
   "cell_type": "code",
   "execution_count": 7,
   "metadata": {},
   "outputs": [],
   "source": [
    "(train_data, train_label), (test_data, test_label) = dataset\n",
    "train_label = np.eye(10)[train_label]\n",
    "test_label = np.eye(10)[test_label]\n",
    "train_data = train_data.reshape([*train_data.shape, 1]) / 255.0\n",
    "test_data = test_data.reshape([*test_data.shape, 1]) / 255.0"
   ]
  },
  {
   "cell_type": "code",
   "execution_count": 18,
   "metadata": {},
   "outputs": [
    {
     "name": "stdout",
     "output_type": "stream",
     "text": [
      "Model: \"sequential\"\n",
      "_________________________________________________________________\n",
      "Layer (type)                 Output Shape              Param #   \n",
      "=================================================================\n",
      "conv2d (Conv2D)              (None, 26, 26, 20)        200       \n",
      "_________________________________________________________________\n",
      "max_pooling2d (MaxPooling2D) (None, 13, 13, 20)        0         \n",
      "_________________________________________________________________\n",
      "conv2d_1 (Conv2D)            (None, 11, 11, 50)        9050      \n",
      "_________________________________________________________________\n",
      "max_pooling2d_1 (MaxPooling2 (None, 5, 5, 50)          0         \n",
      "_________________________________________________________________\n",
      "flatten (Flatten)            (None, 1250)              0         \n",
      "_________________________________________________________________\n",
      "dense (Dense)                (None, 500)               625500    \n",
      "_________________________________________________________________\n",
      "dense_1 (Dense)              (None, 10)                5010      \n",
      "=================================================================\n",
      "Total params: 639,760\n",
      "Trainable params: 639,760\n",
      "Non-trainable params: 0\n",
      "_________________________________________________________________\n"
     ]
    }
   ],
   "source": [
    "tf.keras.backend.clear_session()\n",
    "lenet = Lenet()\n",
    "lenet.summary()"
   ]
  },
  {
   "cell_type": "code",
   "execution_count": 19,
   "metadata": {},
   "outputs": [
    {
     "name": "stdout",
     "output_type": "stream",
     "text": [
      "469/469 [==============================] - 6s 12ms/step - loss: 1.0503 - accuracy: 0.7298\n",
      "79/79 - 0s - loss: 0.3394 - accuracy: 0.9018\n",
      "Test accuracy: 0.90\n"
     ]
    }
   ],
   "source": [
    "tf.keras.backend.clear_session()\n",
    "optimizer = tf.keras.optimizers.SGD(lr=0.01)\n",
    "lenet.compile(loss='categorical_crossentropy', optimizer=optimizer, metrics=['accuracy'])\n",
    "callbacks_list = []\n",
    "lenet.fit(train_data, train_label, batch_size=128, verbose=1, callbacks=callbacks_list)\n",
    "(loss, accuracy) = lenet.evaluate(test_data, test_label, batch_size=128, verbose=2)\n",
    "print(\"Test accuracy: %.2f\" % accuracy)"
   ]
  },
  {
   "cell_type": "code",
   "execution_count": 15,
   "metadata": {},
   "outputs": [
    {
     "name": "stdout",
     "output_type": "stream",
     "text": [
      "('Failed to import pydot. You must `pip install pydot` and install graphviz (https://graphviz.gitlab.io/download/), ', 'for `pydotprint` to work.')\n"
     ]
    }
   ],
   "source": [
    "tf.keras.utils.plot_model(lenet, 'model_info.png', show_shapes=True)"
   ]
  },
  {
   "cell_type": "code",
   "execution_count": 22,
   "metadata": {},
   "outputs": [
    {
     "name": "stdout",
     "output_type": "stream",
     "text": [
      "Model: \"mnist_model\"\n",
      "_________________________________________________________________\n",
      "Layer (type)                 Output Shape              Param #   \n",
      "=================================================================\n",
      "img (InputLayer)             [(None, 28, 28, 1)]       0         \n",
      "_________________________________________________________________\n",
      "Conv1 (Conv2D)               (None, 24, 24, 20)        520       \n",
      "_________________________________________________________________\n",
      "Pool1 (MaxPooling2D)         (None, 12, 12, 20)        0         \n",
      "_________________________________________________________________\n",
      "flatten (Flatten)            (None, 2880)              0         \n",
      "_________________________________________________________________\n",
      "Dense1 (Dense)               (None, 500)               1440500   \n",
      "_________________________________________________________________\n",
      "Dense2 (Dense)               (None, 10)                5010      \n",
      "=================================================================\n",
      "Total params: 1,446,030\n",
      "Trainable params: 1,446,030\n",
      "Non-trainable params: 0\n",
      "_________________________________________________________________\n"
     ]
    }
   ],
   "source": [
    "inputs = tf.keras.Input(shape=(28, 28, 1), name='img')\n",
    "c1 = layers.Convolution2D(filters=20, kernel_size=(5,5), padding='valid', activation='relu', name='Conv1')(inputs)\n",
    "p1 = layers.MaxPooling2D(pool_size=(2, 2), strides=(2, 2), name='Pool1')(c1)\n",
    "flatten = layers.Flatten()(p1)\n",
    "d1 = layers.Dense(units=500, activation='relu', name='Dense1')(flatten)\n",
    "d2 = layers.Dense(units=10, activation='softmax', name='Dense2')(d1)\n",
    "model = tf.keras.Model(inputs=inputs, outputs=d2, name='mnist_model')\n",
    "model.summary()"
   ]
  },
  {
   "cell_type": "code",
   "execution_count": null,
   "metadata": {},
   "outputs": [],
   "source": []
  }
 ],
 "metadata": {
  "kernelspec": {
   "display_name": "Python 3",
   "language": "python",
   "name": "python3"
  },
  "language_info": {
   "codemirror_mode": {
    "name": "ipython",
    "version": 3
   },
   "file_extension": ".py",
   "mimetype": "text/x-python",
   "name": "python",
   "nbconvert_exporter": "python",
   "pygments_lexer": "ipython3",
   "version": "3.7.6"
  }
 },
 "nbformat": 4,
 "nbformat_minor": 4
}
