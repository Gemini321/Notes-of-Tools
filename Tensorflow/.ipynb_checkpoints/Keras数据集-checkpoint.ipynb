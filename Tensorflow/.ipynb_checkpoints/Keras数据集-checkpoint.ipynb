{
 "cells": [
  {
   "cell_type": "markdown",
   "metadata": {},
   "source": [
    "# Keras数据集"
   ]
  },
  {
   "cell_type": "code",
   "execution_count": 2,
   "metadata": {},
   "outputs": [],
   "source": [
    "import tensorflow as tf\n",
    "import tensorflow.keras.datasets as datasets\n",
    "import matplotlib.pyplot as plt"
   ]
  },
  {
   "cell_type": "markdown",
   "metadata": {},
   "source": [
    "## 一、mnist手写数字数据集\n",
    "\n",
    "1. 数据集一共70000个样本，包含60000个训练样本与10000个测试集样本。  \n",
    "2. 返回的数据结构是元组，元组中包含两个元组元素，分别对应训练样本和测试集样本：元组元素的格式为(训练集， 标签集)。  \n",
    "3. 训练样本训练集的大小为(60000, 28, 28)，标签集的大小为(60000,)"
   ]
  },
  {
   "cell_type": "markdown",
   "metadata": {},
   "source": [
    "### 数据集加载"
   ]
  },
  {
   "cell_type": "code",
   "execution_count": 2,
   "metadata": {},
   "outputs": [
    {
     "name": "stdout",
     "output_type": "stream",
     "text": [
      "2\n",
      "<class 'numpy.ndarray'>\n",
      "(60000, 28, 28)\n"
     ]
    }
   ],
   "source": [
    "dataset = datasets.mnist.load_data()\n",
    "print(len(dataset)) # (train_tuple, test_tuple)\n",
    "(train_data, train_labels), (test_data, test_labels) = dataset\n",
    "print(type(train_data))\n",
    "print(train_data.shape)"
   ]
  },
  {
   "cell_type": "markdown",
   "metadata": {},
   "source": [
    "### 数据集可视化"
   ]
  },
  {
   "cell_type": "code",
   "execution_count": 5,
   "metadata": {},
   "outputs": [
    {
     "data": {
      "image/png": "[encoded data removed]",
      "text/plain": [
       "<Figure size 432x288 with 1 Axes>"
      ]
     },
     "metadata": {
      "needs_background": "light"
     },
     "output_type": "display_data"
    }
   ],
   "source": [
    "plt.imshow(train_data[0])\n",
    "plt.show()"
   ]
  },
  {
   "cell_type": "markdown",
   "metadata": {},
   "source": [
    "## 二、CIFAR-10小图像分类数据集\n",
    "\n",
    "1. CIFAR-10数据集是一个包含60000张图片的数据集。  \n",
    "2. 每张照片为32*32的彩色照片，每个像素点包括RGB三个数值，数值范围 0 ~ 255。  \n",
    "3. 所有照片分属10个不同的类别，分别是 'airplane', 'automobile', 'bird', 'cat', 'deer', 'dog', 'frog', 'horse', 'ship', 'truck'  \n",
    "4. 其中50000图片被划分为训练集，剩下的10000张图片属于测试集。"
   ]
  },
  {
   "cell_type": "markdown",
   "metadata": {},
   "source": [
    "### 数据集加载"
   ]
  },
  {
   "cell_type": "code",
   "execution_count": 10,
   "metadata": {},
   "outputs": [
    {
     "name": "stdout",
     "output_type": "stream",
     "text": [
      "Downloading data from https://www.cs.toronto.edu/~kriz/cifar-10-python.tar.gz\n",
      "170500096/170498071 [==============================] - 124s 1us/step\n",
      "2\n",
      "<class 'numpy.ndarray'>\n",
      "(50000, 32, 32, 3)\n"
     ]
    }
   ],
   "source": [
    "dataset = datasets.cifar10.load_data()\n",
    "print(len(dataset)) # (train_tuple, test_tuple)\n",
    "(train_data, train_labels), (test_data, test_labels) = dataset\n",
    "print(type(train_data))\n",
    "print(train_data.shape)"
   ]
  },
  {
   "cell_type": "markdown",
   "metadata": {},
   "source": [
    "## 三、CIFAR-100小图像分类数据集\n",
    "## 四、波士顿住房价格数据集\n",
    "\n",
    "1. 该数据集是一个回归数据集。  \n",
    "2. 每个类的观察值数量是均等的，共有 506 个观察，13 个输入变量和1个输出变量。每条数据包含房屋以及房屋周围的详细信息。  \n",
    "3. 输入数据：\n",
    "> CRIM：城镇人均犯罪率。  \n",
    "> ZN：住宅用地超过 25000 sq.ft. 的比例。  \n",
    "> INDUS：城镇非零售商用土地的比例。  \n",
    "> CHAS：查理斯河空变量（如果边界是河流，则为1；否则为0）。  \n",
    "> NOX：一氧化氮浓度。  \n",
    "> RM：住宅平均房间数。  \n",
    "> AGE：1940 年之前建成的自用房屋比例。  \n",
    "> DIS：到波士顿五个中心区域的加权距离。  \n",
    "> RAD：辐射性公路的接近指数。  \n",
    "> TAX：每 10000 美元的全值财产税率。  \n",
    "> PTRATIO：城镇师生比例。  \n",
    "> B：1000（Bk-0.63）^ 2，其中 Bk 指代城镇中黑人的比例。   \n",
    "> LSTAT：人口中地位低下者的比例。  \n",
    "> MEDV：自住房的平均房价，以千美元计。 \n",
    "4. 输出数据：预测平均值的基准性能的均方根误差（RMSE）是约 9.21 千美元。"
   ]
  },
  {
   "cell_type": "markdown",
   "metadata": {},
   "source": [
    "### 数据集加载"
   ]
  },
  {
   "cell_type": "code",
   "execution_count": 9,
   "metadata": {},
   "outputs": [
    {
     "name": "stdout",
     "output_type": "stream",
     "text": [
      "Downloading data from https://storage.googleapis.com/tensorflow/tf-keras-datasets/boston_housing.npz\n",
      "57344/57026 [==============================] - 0s 2us/step\n",
      "(404, 13) (404,) (102, 13) (102,)\n"
     ]
    }
   ],
   "source": [
    "(x_train, y_train), (x_test, y_test) = datasets.boston_housing.load_data()\n",
    "print(x_train.shape, y_train.shape, x_test.shape, y_test.shape)"
   ]
  },
  {
   "cell_type": "markdown",
   "metadata": {},
   "source": [
    "## 五、路透社主题分类数据集\n",
    "\n",
    "1. 数据集来源于路透社的 11,228 条新闻文本，总共分为 46 个主题。  \n",
    "2. 与 IMDB 数据集一样，每条新闻都被编码为一个词索引的序列。  "
   ]
  },
  {
   "cell_type": "markdown",
   "metadata": {},
   "source": [
    "### 数据集加载"
   ]
  },
  {
   "cell_type": "code",
   "execution_count": 11,
   "metadata": {},
   "outputs": [
    {
     "name": "stdout",
     "output_type": "stream",
     "text": [
      "Downloading data from https://storage.googleapis.com/tensorflow/tf-keras-datasets/reuters.npz\n",
      "2113536/2110848 [==============================] - 2s 1us/step\n",
      "(8982,) (8982,) (2246,) (2246,)\n"
     ]
    }
   ],
   "source": [
    "(x_train, y_train), (x_test, y_test) = datasets.reuters.load_data()\n",
    "print(x_train.shape, y_train.shape, x_test.shape, y_test.shape)"
   ]
  },
  {
   "cell_type": "markdown",
   "metadata": {},
   "source": [
    "## 六、Iris鸢尾花数据集\n",
    "\n",
    "1. 数据集内包含 3 类共 150 条记录，每类各 50 个数据  \n",
    "2. 每条记录都有 4 项特征：花萼长度、花萼宽度、花瓣长度、花瓣宽度  \n",
    "3. 通过这4个特征预测鸢尾花卉"
   ]
  },
  {
   "cell_type": "markdown",
   "metadata": {},
   "source": [
    "### 数据集加载"
   ]
  },
  {
   "cell_type": "code",
   "execution_count": 3,
   "metadata": {},
   "outputs": [
    {
     "name": "stdout",
     "output_type": "stream",
     "text": [
      "(150, 4) (150,)\n"
     ]
    }
   ],
   "source": [
    "import numpy as np\n",
    "from sklearn import datasets\n",
    "\n",
    "x_train = datasets.load_iris().data\n",
    "y_train = datasets.load_iris().target\n",
    "print(x_train.shape, y_train.shape)"
   ]
  },
  {
   "cell_type": "code",
   "execution_count": 5,
   "metadata": {},
   "outputs": [
    {
     "data": {
      "text/plain": [
       "0"
      ]
     },
     "execution_count": 5,
     "metadata": {},
     "output_type": "execute_result"
    }
   ],
   "source": [
    "y_train[1]"
   ]
  },
  {
   "cell_type": "code",
   "execution_count": null,
   "metadata": {},
   "outputs": [],
   "source": []
  }
 ],
 "metadata": {
  "kernelspec": {
   "display_name": "Python 3",
   "language": "python",
   "name": "python3"
  },
  "language_info": {
   "codemirror_mode": {
    "name": "ipython",
    "version": 3
   },
   "file_extension": ".py",
   "mimetype": "text/x-python",
   "name": "python",
   "nbconvert_exporter": "python",
   "pygments_lexer": "ipython3",
   "version": "3.7.6"
  }
 },
 "nbformat": 4,
 "nbformat_minor": 4
}
