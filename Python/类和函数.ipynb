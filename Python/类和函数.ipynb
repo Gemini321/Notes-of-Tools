{
 "cells": [
  {
   "cell_type": "markdown",
   "metadata": {},
   "source": [
    "# 类和函数\n",
    "\n",
    "## 函数\n",
    "\n",
    "调用函数时可以使用的参数类型：\n",
    "\n",
    "> 必需参数：e.g. def printme(str, times)，需要按顺序传入str，times两个参数  \n",
    "> 关键字参数：e.g. printme(times=1, str=\"Hello\")  \n",
    "> 默认参数：e.g. def printme(str, times=1)，不传入times时默认为1  \n",
    "> 不定长参数：e.g. def function(str, \\*var_args_tuple, \\*\\*var_args_dict)，其中\\*var_args_tuple以元组的形式保存传入的多余参数，\\*\\*var_args_dict以字典的形式保存传入的多余参数  \n",
    "> 强制位置参数：Python3.8新增了一个函数形参语法 / 用来指明函数形参必须使用指定位置参数，不能使用关键字参数的形式。/ 前的参数必须使用固定位置参数\n",
    "\n",
    "```Python\n",
    "# 在以下的例子中，形参 a 和 b 必须使用指定位置参数，c 或 d 可以是位置形参或关键字形参，而 e 或 f 要求为关键字形参: \n",
    "def f(a, b, /, c, d, e, f):\n",
    "    print(a, b, c, d, e, f)\n",
    "    \n",
    "f(10, 20, 30, d=40, e=50, f=60) # 正确\n",
    "f(10, b=20, c=30, d=40, e=50, f=60)   # b 不能使用关键字参数的形式\n",
    "f(10, 20, 30, 40, 50, f=60)        # e 必须使用关键字参数的形式\n",
    "```\n",
    "\n",
    "匿名函数：lambda表达式\n",
    "\n",
    "lambda的主体是一个表达式，而不是一个代码块。仅仅能在lambda表达式中封装有限的逻辑进去。\n",
    "lambda函数拥有自己的命名空间，且不能访问自己参数列表之外或全局命名空间里的参数。\n",
    "\n",
    "```python\n",
    "sum = lambda a, b: a + b\n",
    "print(\"1 + 3 =\", sum(1, 3))\n",
    "```"
   ]
  },
  {
   "cell_type": "code",
   "execution_count": null,
   "metadata": {},
   "outputs": [],
   "source": []
  }
 ],
 "metadata": {
  "kernelspec": {
   "display_name": "Python 3",
   "language": "python",
   "name": "python3"
  },
  "language_info": {
   "codemirror_mode": {
    "name": "ipython",
    "version": 3
   },
   "file_extension": ".py",
   "mimetype": "text/x-python",
   "name": "python",
   "nbconvert_exporter": "python",
   "pygments_lexer": "ipython3",
   "version": "3.7.6"
  }
 },
 "nbformat": 4,
 "nbformat_minor": 4
}
