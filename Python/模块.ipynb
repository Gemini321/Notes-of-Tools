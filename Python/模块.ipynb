{
 "cells": [
  {
   "cell_type": "markdown",
   "metadata": {},
   "source": [
    "# Python modules"
   ]
  },
  {
   "cell_type": "markdown",
   "metadata": {},
   "source": [
    "## argparse\n",
    "\n",
    "argparse 模块可以轻松编写用户友好的命令行接口。程序定义它需要的参数，然后 argparse 将弄清如何从 sys.argv 解析出那些参数。 argparse 模块还会自动生成帮助和使用手册，并在用户给程序传入无效参数时报出错误信息。"
   ]
  },
  {
   "cell_type": "markdown",
   "metadata": {},
   "source": [
    "使用`argparse`的简单流程：\n",
    "\n",
    "* 创建`ArgumentParser()`对象  \n",
    "* 调用`add_argument()`方法添加参数  \n",
    "* 使用`parse_args()`解析添加的参数"
   ]
  },
  {
   "cell_type": "code",
   "execution_count": 1,
   "metadata": {},
   "outputs": [],
   "source": [
    "import argparse"
   ]
  },
  {
   "cell_type": "code",
   "execution_count": 7,
   "metadata": {},
   "outputs": [],
   "source": [
    "# argparse.ArgumentParser(prog=None, usage=None, description=None)\n",
    "# prog: the name of the program(the default value is sys.argv[0]), which can be refered\n",
    "# by '%(prog)s'\n",
    "# usage: usage='%(prog)s [options]'\n",
    "# description: a description following usage\n",
    "\n",
    "parser = argparse.ArgumentParser(description='A test program')"
   ]
  },
  {
   "cell_type": "code",
   "execution_count": 8,
   "metadata": {},
   "outputs": [
    {
     "data": {
      "text/plain": [
       "_StoreAction(option_strings=[], dest='first', nargs=None, const=None, default=\"I'm first.\", type=None, choices=None, help='the first argument', metavar=None)"
      ]
     },
     "execution_count": 8,
     "metadata": {},
     "output_type": "execute_result"
    }
   ],
   "source": [
    "# argparse.add_argument(name_of_flags: str, nargs=1, default=None, help=None)\n",
    "# name_of_flags: can be optional argument like '-f'/'--f' or positional argument\n",
    "# nargs: the number of arguments\n",
    "# default: the default value\n",
    "\n",
    "parser.add_argument('-f', default='I\\'m default.')\n",
    "parser.add_argument('first', help='the first argument', default='I\\'m first.')"
   ]
  },
  {
   "cell_type": "code",
   "execution_count": 10,
   "metadata": {},
   "outputs": [
    {
     "name": "stdout",
     "output_type": "stream",
     "text": [
      "<class 'argparse.Namespace'>\n",
      "Namespace(f='f readed from command line', first='first readed')\n"
     ]
    }
   ],
   "source": [
    "# argparse.parse_args(): to parse the args to a namespace\n",
    "\n",
    "args = parser.parse_args(['-f', 'f readed from command line', 'first readed'])\n",
    "print(type(args))\n",
    "print(args)"
   ]
  },
  {
   "cell_type": "code",
   "execution_count": null,
   "metadata": {},
   "outputs": [],
   "source": []
  }
 ],
 "metadata": {
  "kernelspec": {
   "display_name": "Python 3",
   "language": "python",
   "name": "python3"
  },
  "language_info": {
   "codemirror_mode": {
    "name": "ipython",
    "version": 3
   },
   "file_extension": ".py",
   "mimetype": "text/x-python",
   "name": "python",
   "nbconvert_exporter": "python",
   "pygments_lexer": "ipython3",
   "version": "3.7.6"
  }
 },
 "nbformat": 4,
 "nbformat_minor": 4
}
