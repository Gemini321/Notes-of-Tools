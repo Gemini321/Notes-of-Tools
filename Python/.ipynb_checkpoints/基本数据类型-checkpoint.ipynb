{
 "cells": [
  {
   "cell_type": "markdown",
   "metadata": {},
   "source": [
    "# 基本数据类型\n",
    "\n",
    "## 数据类型的判断\n",
    "\n",
    "一个对象的数据类型可以由内置函数``id(object)``获得，下列方法可以比较两个对象的数据类型：\n",
    "\n",
    "> `if a is b`：a和b是同一对象（两个对象id相同）  \n",
    "> `if a == b`：a和b的值相同  \n",
    "> `if type(a) == type(b)`：a和b具有相同的类型\n",
    "\n",
    "判断对象是否为特定数据类型：\n",
    "\n",
    "> `if type(a) is list`：a是list  \n",
    "> `if isinstance(a, list)`：a是list（isinstance还可以用于判断继承关系）"
   ]
  },
  {
   "cell_type": "markdown",
   "metadata": {},
   "source": [
    "## 引用计数\n",
    "\n",
    "Python对所有对象均使用引用计数，即为每一个对象的第一次定义创建对象，此后增加或删除对\n",
    "该对象的引用。在一般的赋值时(e.g. `a = b`)，实际上只是为b指向的对象增加一个新的引用，\n",
    "并将该引用赋给a；当变量被赋以其他值或使用`del`语句删除时，减少该对象的引用。\n",
    "\n",
    "对一个对象，还有浅拷贝和深拷贝的操作。以下是引用、浅拷贝和深拷贝的区别：\n",
    "\n",
    "> 引用：直接将变量名指向同一个地址  \n",
    "> 浅拷贝：创建一个新的对象，对浅层元素进行拷贝复制，深层元素使用引用  \n",
    "> 深拷贝：创建一个新的对象，对浅层元素和深层元素均进行拷贝复制\n",
    "\n",
    "其中的浅层元素指不可变对象(immutable)(e.g. str, numbers, tuples)，深层元素指可变对象(mutable)(e.g. list, dict)。注意单独一个变量\n",
    "名无法判断是可变对象还是不可变对象，需要判断该变量所指向对象的数据类型。\n",
    "\n",
    "在函数的参数传递时，不可变对象进行值传递，可变对象进行引用传递。"
   ]
  },
  {
   "cell_type": "code",
   "execution_count": 4,
   "metadata": {},
   "outputs": [
    {
     "name": "stdout",
     "output_type": "stream",
     "text": [
      "a = [1, 2, 12, [1, 2, 3, 4, 5], {13: 120}]\n",
      "a = [100, 2, 12, [1, 2, 3, 4, 5], {13: 120}]\n",
      "a = [100, 2, 12, [1, 2, 3, 4, 5], {13: 120}]\n",
      "a = [100, 2, 12, [1, 2, 3, 4, 5], {13: 120}]\n",
      "d = [1, 2, 12, [10000, 2, 3, 4, 5], {13: 120}]\n"
     ]
    }
   ],
   "source": [
    "import copy\n",
    "\n",
    "variable = 12\n",
    "dic = {13: 120}\n",
    "l = [1, 2, 3, 4, 5]\n",
    "a = [1, 2, variable, l, dic]\n",
    "print(\"a =\", a)\n",
    "\n",
    "b = a # 引用\n",
    "c = list(a) # 浅复制，可写成 c = copy.copy(a)\n",
    "d = copy.deepcopy(a) # 深复制\n",
    "\n",
    "b[0] = 100      # b可以改变a的所有值\n",
    "print(\"a =\", a)\n",
    "c[0] = 1000     # c不可以改变a的浅层元素/不可变元素\n",
    "print(\"a =\", a)\n",
    "d[3][0] = 10000 # d不可以改变a的深层元素l\n",
    "print(\"a =\", a)\n",
    "print(\"d =\", d)"
   ]
  },
  {
   "cell_type": "markdown",
   "metadata": {},
   "source": [
    "## 通用操作\n",
    "\n",
    "以下是对所有序列(索引为非负数的有序对象集合，e.g. string, list, tuple)通用的操作：\n",
    "\n",
    "> `s[i: j: stride]`：切片操作，可以对多个元素进行赋值或删除，范围为\\[i, j\\)  \n",
    "> `len(s)`：返回s中元素的数量  \n",
    "> `min(s)`：返回s中元素的最小值（仅支持同一数据类型的比较）  \n",
    "> `max(s)`：返回s中元素的最大值  \n",
    "> `sum(s\\[, initial\\])`：求和，其中initial为初始值\n",
    "> `all(s)`：判断是否所有项为True  \n",
    "> `any(s)`：判断是否存在一项为True\n"
   ]
  },
  {
   "cell_type": "code",
   "execution_count": 6,
   "metadata": {
    "scrolled": false
   },
   "outputs": [
    {
     "name": "stdout",
     "output_type": "stream",
     "text": [
      "[1, 4, 4, 5]\n"
     ]
    }
   ],
   "source": [
    "a = [1, 2, 3, 4, 5]\n",
    "a[1: 3] = [4]         # 赋值时需要使用iterable\n",
    "print(a)"
   ]
  },
  {
   "cell_type": "markdown",
   "metadata": {},
   "source": [
    "## 列表方法\n",
    "\n",
    "以下是list的方法：\n",
    "\n",
    "> `list(s)`：将s转化为list，`list()`为创建空列表  \n",
    "> `s.append(x)`：将元素x追加到s的末尾  \n",
    "> `s.extend(l)`：将列表t追加到s的末尾  \n",
    "> `s.count(x)`：计算x出现的次数  \n",
    "> `s.index(x[, start[, stop]])`：返回s中x出现的最小下标，start和stop设置范围  \n",
    "> `s.insert(i, x)`：在下标i处插入元素x，并将后续元素后移一位  \n",
    "> `s.pop([i])`：移除s中下标为i的元素，后续元素向前移一位，i缺省时移除最后一个元素  \n",
    "> `s.remove(x)`：在s中搜索值为x的第一个元素并移除  \n",
    "> `s.reverse()`：反转顺序  \n",
    "> `s,sort([cmp=None, [key=None[, reverse=None]]])`：key函数为比较函数，需要以一个元素作为输入并返回一个可比较的值（例如输入一个tuple返回一个数值），reverse表示是否对结果反转  \n",
    "> 遍历列表：for i, v in enumerate(list)；同时遍历两个序列：for q, a in zip(list1, list2)  "
   ]
  },
  {
   "cell_type": "markdown",
   "metadata": {},
   "source": [
    "## 字符串方法\n",
    "\n",
    "以下是str的方法：\n",
    "\n",
    "```Python\n",
    "s.capitalize()                       # 首字母大写\n",
    "s.center(width[, pad=None])              # 在长度为width的字段内居中，并用pad字符填充\n",
    "s.count(sub[, start=None[, end=None]])       # 在范围内计算子串数量\n",
    "s.decode([encoding='UTF-8'[, errors='strict']]) # 返回Unicode字符串\n",
    "s.encode([encoding='UTF8'[, errors='strict']]) # 将Unicode字符串转化为普通字符串\n",
    "s.endswith(obj, beg=0, end=len(s))         # 检查[beg, len)范围内是否以obj结束\n",
    "s.expandtabs(tabsize=8)                # 将tab转化为空格\n",
    "s.find(str, beg=0, end=len(s))            # 在[beg, end)范围内查找str字符串并返回第一个字符的索引，否则返回-1\n",
    "s.format()                         # 格式化字符串\n",
    "s.index(str, beg=0, end=len(s))           # 同find()，若str不在s中则报异常\n",
    "s.join(seq)                        # 以s为分隔符，对seq(str类型)的每个元素进行合并\n",
    "s.partition(str)                     # 将s分为一个三元组(string_pre_str, str, string_posrt_str)\n",
    "s.replace(str1, str2, num=string.count(str1))  # 将s中的所有str1替换为str2\n",
    "s.split(str=\" \", num=string.count(str))      # 以str为分隔符将s分成多个子串并放在list中\n",
    "s.strip([obj])                      # 删除首尾空格\n",
    "s.maketrans(intab, outtab)              # intab字符串表示需要转换的字符，outtab字符串表示输出的对应字符，返回一个字典表示转换表\n",
    "s.translate(table[, deletechars])          # table为maketrans()产生的翻译表，deletechars表示字符串s中需要删除的字符列表\n",
    "\n",
    "s.isalnum() # 是否只包含字母和数字\n",
    "s.isalpha() # 是否只包含字母\n",
    "s.isdecimal() # 是否只包含1十进制数\n",
    "s.digit() # 是否只包含数字\n",
    "s.islower() # 是否字母均为小写\n",
    "s.isspace() # 是否只包含空格\n",
    "s.istitle() # 是否标题化（首字母大写而其他字母小写）\n",
    "s.isupper() # 是否字母均为大写\n",
    "\n",
    "s.ljust(width) # 左对齐并用空格填充至width长\n",
    "s.rjust(width) # 右对齐并用空格填充至width长\n",
    "s.lstrip() # 截去左边的空格\n",
    "s,rstrip()\n",
    "s.max()\n",
    "s.min()\n",
    "\n",
    "# 格式化字符串\n",
    "# % 操作符\n",
    "t = tuple((1.123456, 123, 'Hello world'))\n",
    "print(\"%05.2f %d %s\" % (1.123456, 123, 'Hello world'))\n",
    "print(\"%-05.2f %d %s\" % t) # 左对齐，空格补0，宽度为5，保留小数点后2位\n",
    "print(\"%s\" % ([1, 2, 3, 5])) # %s功能非常强大，可以传入任意类型的数据并转化为字符串输出\n",
    "\n",
    "# format函数\n",
    "l = [1, 2, 3]\n",
    "d = {'hello': 1, 'world': 2}\n",
    "print(\"{} {} {}\".format(1, 2, 3))            # 只写{}时，默认按传入顺序输出；写数字编号时，按下标寻找；不能同时用{}和{1}输出\n",
    "print(\"{n1} {n2} {n3}\".format(n1=1, n2=2, n3=3))  # 指定关键字时，按关键字输出\n",
    "print(\"整数{:e} 浮点数{:5.2f} 字符串{:s}\".format(1, 2, \"hello world\"))\n",
    "print('右对齐，宽度为10，取两位小数，不足补0 {:0>10.2f}'.format(22.22555))\n",
    "print(\"{} {} {}\".format(*l))         # 传入列表（元组同）\n",
    "print(\"{0[1]} {0[0]} {0[2]}\".format())  # 列表的下标索引，0不可省\n",
    "print(\"{hello} {world} {hello}\".format(**d)) # 需要省略dict中的引号\n",
    "```"
   ]
  },
  {
   "cell_type": "markdown",
   "metadata": {},
   "source": [
    "## 字典方法\n",
    "\n",
    "以下是字典方法：\n",
    "\n",
    "```Python\n",
    "len(m) # 返回m中键值对的数量\n",
    "str(m) # 将字典的输出变成字符串\n",
    "type(m) # 返回字典类型\n",
    "m[k] # 通过k进行索引，若不存在k为键，引发KeyError异常\n",
    "m[k] = x # 将键为k的值设为x，无论是否存在键k\n",
    "del m[k] # 删除以k为键的键值对\n",
    "k in m # 若k为m的键，则返回是\n",
    "m.clear() # 清除m中的所有项\n",
    "m.copy() # 返回m的一个副本（浅拷贝）\n",
    "m.fromkeys(seq[, val]) # 创建一个新字典，以seq中的元素作为字典的键，val作为字典所有键的值的初始值\n",
    "m.get(key, default=None) # 返回指定键的值，否则返回default值\n",
    "m.has_key(key) # 若存在键key则返回True，否则返回False\n",
    "m.items() # 以列表的形式返回所有键值对元组\n",
    "m.keys() # 以列表的形式返回所有键\n",
    "m.setdefault(key, default=None) # 若key不在字典中，则设为default\n",
    "m.update(dic) # 将dic中的键值对添加至m中\n",
    "m.values() # 以列表的形式返回所有值\n",
    "m.pop(key[, default]) # 删除key为键的键值对，否则返回default\n",
    "m.popitem() # 返回并删除m中最后一对键值对\n",
    "\n",
    "# 遍历字典\n",
    "for k, v in dic.items():\n",
    "   ...\n",
    "```"
   ]
  },
  {
   "cell_type": "markdown",
   "metadata": {},
   "source": [
    "## 迭代器与生成器\n",
    "\n",
    "迭代器对象从集合的第一个元素开始访问，直到所有的元素被访问完结束。迭代器只能往前不会后退。字符串、列表和元组对象都可以用于创建迭代器对象。迭代完毕后继续迭代，会产生StopIteration异常\n",
    "\n",
    "```Python\n",
    "l = [1, 2, 3, 4]\n",
    "it = iter(l)\n",
    "print(next(it)) # out: 1\n",
    "print(next(it)) # out: 2\n",
    "```\n",
    "\n",
    "利用一个类创建迭代器只需要在一个类中实现`__iter__()`和`__next__()`两个方法。\n",
    "\n",
    "```Python\n",
    "class MyIteration:\n",
    "    def __iter__(self): # 在产生迭代器时进行初始化\n",
    "        self.a = 1\n",
    "        return self\n",
    "    \n",
    "    def __next__(self):\n",
    "        if self.a <= 20:\n",
    "            x = self.a\n",
    "            self.a += 1\n",
    "            return x\n",
    "        else:\n",
    "            raise StopIteration\n",
    "    \n",
    "myclass = MyNumbers()\n",
    "myiter = iter(myclass)\n",
    "print(next(myiter))\n",
    "```"
   ]
  },
  {
   "cell_type": "code",
   "execution_count": null,
   "metadata": {},
   "outputs": [],
   "source": []
  }
 ],
 "metadata": {
  "kernelspec": {
   "display_name": "Python 3",
   "language": "python",
   "name": "python3"
  },
  "language_info": {
   "codemirror_mode": {
    "name": "ipython",
    "version": 3
   },
   "file_extension": ".py",
   "mimetype": "text/x-python",
   "name": "python",
   "nbconvert_exporter": "python",
   "pygments_lexer": "ipython3",
   "version": "3.7.6"
  }
 },
 "nbformat": 4,
 "nbformat_minor": 4
}
