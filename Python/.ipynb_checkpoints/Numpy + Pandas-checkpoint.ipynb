{
 "cells": [
  {
   "cell_type": "markdown",
   "metadata": {},
   "source": [
    "# NumPy"
   ]
  },
  {
   "cell_type": "code",
   "execution_count": 1,
   "metadata": {},
   "outputs": [],
   "source": [
    "import numpy as np"
   ]
  },
  {
   "cell_type": "markdown",
   "metadata": {},
   "source": [
    "## NumPy Ndarray对象"
   ]
  },
  {
   "cell_type": "markdown",
   "metadata": {},
   "source": [
    "```python\n",
    "numpy.array(object, dtype = None, copy = True, order = None, subok = False, ndmin = 0)\n",
    "```"
   ]
  },
  {
   "cell_type": "markdown",
   "metadata": {},
   "source": [
    "* object：数列或嵌套数列\n",
    "* dtype：数据类型\n",
    "* copy：对象是否需要复制\n",
    "* order：创建数组的样式（C：行方向；F：列方向；A：任意方向（默认））\n",
    "* subok：返回一个与基类类型相同的数组\n",
    "* ndmin：指定最小维度"
   ]
  },
  {
   "cell_type": "code",
   "execution_count": 3,
   "metadata": {},
   "outputs": [
    {
     "name": "stdout",
     "output_type": "stream",
     "text": [
      "[[1 2]\n",
      " [3 4]]\n"
     ]
    }
   ],
   "source": [
    "# 多于一个维度  \n",
    "a = np.array([[1, 2], [3, 4]])  \n",
    "print (a)"
   ]
  },
  {
   "cell_type": "code",
   "execution_count": 4,
   "metadata": {},
   "outputs": [
    {
     "name": "stdout",
     "output_type": "stream",
     "text": [
      "[[1 2 3 4 5]]\n"
     ]
    }
   ],
   "source": [
    "a = np.array([1, 2, 3, 4, 5], ndmin=2)  \n",
    "print (a)"
   ]
  },
  {
   "cell_type": "markdown",
   "metadata": {},
   "source": [
    "```python\n",
    "numpy.dtype(object, align, copy)\n",
    "```"
   ]
  },
  {
   "cell_type": "code",
   "execution_count": 2,
   "metadata": {},
   "outputs": [
    {
     "name": "stdout",
     "output_type": "stream",
     "text": [
      "int32\n",
      "[(b'abc', 21, 50.) (b'xyz', 18, 75.)]\n"
     ]
    }
   ],
   "source": [
    "# int8, int16, int32, int64 四种数据类型可以使用字符串 'i1', 'i2','i4','i8' 代替；uint,float,complex同理\n",
    "dt = np.dtype('i4')\n",
    "print(dt)\n",
    "\n",
    "# 类似于结构体（S20 name; i1 age; f4 marks;）\n",
    "student = np.dtype([('name','S20'), ('age', 'i1'), ('marks', 'f4')]) \n",
    "a = np.array([('abc', 21, 50),('xyz', 18, 75)], dtype = student) # name = 'abc', age = 21, marks = 50 \n",
    "print(a)"
   ]
  },
  {
   "cell_type": "markdown",
   "metadata": {},
   "source": [
    "| 属性 | 说明 |\n",
    "| :-----: | :-----: |\n",
    "| ndarray.ndim | 秩/维度 |\n",
    "| ndarray.shape | n行m列 |\n",
    "| ndarray.size | 元素总数（n\\*m） |\n",
    "| ndarray.dtype | 元素的类型 |"
   ]
  },
  {
   "cell_type": "markdown",
   "metadata": {},
   "source": [
    "很多时候可以声明 axis。axis=0，表示沿着第 0 轴进行操作，即对每一列进行操作；axis=1，表示沿着第1轴进行操作，即对每一行进行操作。"
   ]
  },
  {
   "cell_type": "code",
   "execution_count": 2,
   "metadata": {},
   "outputs": [
    {
     "name": "stdout",
     "output_type": "stream",
     "text": [
      "[[1 2 3]\n",
      " [4 5 6]]\n",
      "[[1 2]\n",
      " [3 4]\n",
      " [5 6]]\n",
      "[[1 2]\n",
      " [3 4]\n",
      " [5 6]]\n"
     ]
    }
   ],
   "source": [
    "a = np.array([[1,2,3],[4,5,6]])  \n",
    "print (a) # shape\n",
    "\n",
    "a = np.array([[1,2,3],[4,5,6]]) \n",
    "a.shape = (3,2)  # 调整shape，变成3行2列\n",
    "print (a)\n",
    "\n",
    "a = np.array([[1,2,3],[4,5,6]]) \n",
    "b = a.reshape(3,2)  # 同上\n",
    "print (b)"
   ]
  },
  {
   "cell_type": "markdown",
   "metadata": {},
   "source": [
    "## Numpy创建数组\n",
    "```python\n",
    "numpy.empty(shape, dtype = float, order = 'C') # 创建空数组\n",
    "numpy.zeros(shape, dtype = float, order = 'C') # 创建用0填充的数组\n",
    "numpy.ones(shape, dtype = None, order = 'C')  # 创建用1填充的数组\n",
    "numpy.frombuffer(buffer, dtype = float, count = -1, offset = 0) # 以流的形式读入转化成ndarray对象（需要指定对象类型）\n",
    "numpy.fromiter(iterable, dtype, count=-1) # 从可迭代对象中建立 ndarray 对象，返回一维数组\n",
    "numpy.arange(start, stop, step, dtype) # 创建数值范围并返回 ndarray 对象[start, stop)\n",
    "np.linspace(start, stop, num=50, endpoint=True, retstep=False, dtype=None) # 生成等差数组，注意要生成[0, 1.0]时num=11\n",
    "np.logspace(start, stop, num=50, endpoint=True, base=10.0, dtype=None) # 生成等比数组\n",
    "```"
   ]
  },
  {
   "cell_type": "markdown",
   "metadata": {},
   "source": [
    "*注意：buffer 是字符串的时候，Python3 默认 str 是 Unicode 类型，所以要转成 bytestring 在原 str 前加上 b。*"
   ]
  },
  {
   "cell_type": "code",
   "execution_count": 10,
   "metadata": {},
   "outputs": [
    {
     "name": "stdout",
     "output_type": "stream",
     "text": [
      "[b'H' b'e' b'l' b'l' b'o' b' ' b'W' b'o' b'r' b'l' b'd']\n"
     ]
    }
   ],
   "source": [
    "s =  b'Hello World' \n",
    "a = np.frombuffer(s, dtype =  'S1')  # 注意数据类型；只能生成数组\n",
    "print (a)"
   ]
  },
  {
   "cell_type": "code",
   "execution_count": 11,
   "metadata": {},
   "outputs": [
    {
     "name": "stdout",
     "output_type": "stream",
     "text": [
      "[0. 1. 2. 3. 4.]\n"
     ]
    }
   ],
   "source": [
    "# 使用 range 函数创建列表对象  \n",
    "list=range(5)\n",
    "it=iter(list)\n",
    "# 使用迭代器创建 ndarray \n",
    "x=np.fromiter(it, dtype=float)\n",
    "print(x)"
   ]
  },
  {
   "cell_type": "code",
   "execution_count": 16,
   "metadata": {
    "scrolled": true
   },
   "outputs": [
    {
     "name": "stdout",
     "output_type": "stream",
     "text": [
      "[10 12 14 16 18]\n",
      "\n",
      "[[ 1.]\n",
      " [ 2.]\n",
      " [ 3.]\n",
      " [ 4.]\n",
      " [ 5.]\n",
      " [ 6.]\n",
      " [ 7.]\n",
      " [ 8.]\n",
      " [ 9.]\n",
      " [10.]]\n",
      "\n",
      "[  1.   2.   4.   8.  16.  32.  64. 128. 256. 512.]\n",
      "\n",
      "[ 10.          12.91549665  16.68100537  21.5443469   27.82559402\n",
      "  35.93813664  46.41588834  59.94842503  77.42636827 100.        ]\n"
     ]
    }
   ],
   "source": [
    "x = np.arange(10,20,2) # 范围依次生成数组[start: end: step] \n",
    "print (x)\n",
    "print()\n",
    "\n",
    "a = np.linspace(1,10,10).reshape([10,1]) # 生成等差数组（与上面类似）；闭区间\n",
    "print(a)\n",
    "print()\n",
    "\n",
    "a = np.logspace(0,9,10,base=2) # 生成等比数组（从下标0和9中输出10个数）\n",
    "print(a)\n",
    "print()\n",
    "\n",
    "# 默认底数是 10\n",
    "a = np.logspace(1.0,  2.0, num =  10)  # 生成等比数组（从下标1和2中输出10个数）\n",
    "print(a)"
   ]
  },
  {
   "cell_type": "markdown",
   "metadata": {},
   "source": [
    "## 随机数序列"
   ]
  },
  {
   "cell_type": "markdown",
   "metadata": {},
   "source": [
    "生成随机数序列：\n",
    "\n",
    "* `np.random.rand(d0, d1, ...)`: 生成维度为(d0, d1, ...)的范围在\\[0, 1)的随机值  \n",
    "* `np.random.randn(d0, d1, ...)`: 生成符合标准正态分布的数据\n",
    "* `np.random.randint(low[, high, size])`: 生成[low, high)范围内的随机整数\n",
    "* `np.random.random_sample([size])`: 生成[0.0, 1.0)的随机浮点数\n",
    "\n",
    "排列：\n",
    "\n",
    "* `np.random.shuffle(array)`: 将array中的序列打乱顺序\n",
    "* `np.random.permutation(n)`: 生成1~n的一个全排列\n",
    "* `np.random.choice(region, size, replace=True, p=None)`: 在region中不放回地挑出size大小的数据，各数据的概率一致\n",
    "\n",
    "常见分布：\n",
    "\n",
    "* `np.random.normal([loc, scale, size])`\n",
    "* `np.random.standard_normal([size])`\n",
    "* `np.random.poisson([lam, size])`\n",
    "* `np.random.uniform([low, high, size])`\n",
    "* `np.logistic([loc, scale, size])`\n",
    "* `np.binomial(n, p[, size])`"
   ]
  },
  {
   "cell_type": "markdown",
   "metadata": {},
   "source": [
    "## NumPy 切片和索引"
   ]
  },
  {
   "cell_type": "code",
   "execution_count": 17,
   "metadata": {},
   "outputs": [
    {
     "name": "stdout",
     "output_type": "stream",
     "text": [
      "[2 4 6]\n",
      "\n",
      "[2 4 6]\n"
     ]
    }
   ],
   "source": [
    "a = np.arange(10)\n",
    "s = slice(2,7,2)   # 从索引 2 开始到索引 7 停止，间隔为2\n",
    "print(a[s])\n",
    "print()\n",
    "\n",
    "b = a[2:7:2]   # 从索引 2 开始到索引 7 停止，间隔为 2\n",
    "print(b)"
   ]
  },
  {
   "cell_type": "code",
   "execution_count": 6,
   "metadata": {},
   "outputs": [
    {
     "name": "stdout",
     "output_type": "stream",
     "text": [
      "[2 4 5]\n",
      "[3 4 5]\n",
      "[[2 3]\n",
      " [4 5]\n",
      " [5 6]]\n"
     ]
    }
   ],
   "source": [
    "a = np.array([[1,2,3],[3,4,5],[4,5,6]]) # 用省略号表示,此处省略号与':'作用相同\n",
    "print(a[...,1])   # 第2列元素\n",
    "print(a[1,...])   # 第2行元素\n",
    "print(a[...,1:])  # 第2列及剩下的所有元素"
   ]
  },
  {
   "cell_type": "code",
   "execution_count": 19,
   "metadata": {},
   "outputs": [
    {
     "name": "stdout",
     "output_type": "stream",
     "text": [
      "[1 4 5]\n",
      "\n",
      "大于 5 的元素是：\n",
      "[ 6  7  8  9 10 11]\n"
     ]
    }
   ],
   "source": [
    "x = np.array([[1,  2],  [3,  4],  [5,  6]]) \n",
    "y = x[[0,1,2],  [0,1,0]]  # 获取数组中(0,0)，(1,1)和(2,0)位置处的元素\n",
    "print(y)\n",
    "print()\n",
    "\n",
    "x = np.array([[  0,  1,  2],[  3,  4,  5],[  6,  7,  8],[  9,  10,  11]])\n",
    "print  ('大于 5 的元素是：')\n",
    "print(x[x > 5]) # 布尔索引"
   ]
  },
  {
   "cell_type": "code",
   "execution_count": 20,
   "metadata": {},
   "outputs": [
    {
     "name": "stdout",
     "output_type": "stream",
     "text": [
      "[1. 2. 3. 4. 5.]\n",
      "[2. +6.j 3.5+5.j]\n"
     ]
    }
   ],
   "source": [
    "a = np.array([np.nan, 1, 2, np.nan, 3, 4, 5])  \n",
    "print(a[~np.isnan(a)])  # 过滤NaN\n",
    "\n",
    "a = np.array([1,  2+6j,  5,  3.5+5j])  \n",
    "print(a[np.iscomplex(a)]) # 过滤非复数元素"
   ]
  },
  {
   "cell_type": "code",
   "execution_count": 21,
   "metadata": {},
   "outputs": [
    {
     "name": "stdout",
     "output_type": "stream",
     "text": [
      "[[16 17 18 19]\n",
      " [24 25 26 27]\n",
      " [28 29 30 31]\n",
      " [ 4  5  6  7]]\n"
     ]
    }
   ],
   "source": [
    "x=np.arange(32).reshape((8,4)) # 花式切片：对应行的下标下标\n",
    "print(x[[-4,-2,-1,-7]])"
   ]
  },
  {
   "cell_type": "markdown",
   "metadata": {},
   "source": [
    "## NumPy 广播(Broadcast) "
   ]
  },
  {
   "cell_type": "markdown",
   "metadata": {},
   "source": [
    "广播(Broadcast)是 numpy 对不同形状(shape)的数组进行数值计算的方式， 对数组的算术运算通常在**相应的元素**上进行。  \n",
    "\n",
    "如果两个数组 a 和 b 形状相同，即满足 a.shape == b.shape，那么 a\\*b 的结果就是 a 与 b 数组**对应位相乘**。这要求维数相同，且各维度的长度相同。  \n",
    "\n",
    "若两个数组的维度不相同，但从后算起的维度相同（e.g. (3, 2, 4)和(2, 4)）；或两个数组的维度相同，但其中一个数组有一个维度为1（e.g. (3, 2, 4)和(3, 1, 4)），那么称两个数组为广播兼容的。"
   ]
  },
  {
   "cell_type": "markdown",
   "metadata": {},
   "source": [
    "[common]: ![jupyter](./fig/broadcast.gif)\n",
    "<div align=\"center\">\n",
    "<img src='./fig/broadcast.gif' alt='Broadcast' style='zoom:100%;'/>\n",
    "</div>"
   ]
  },
  {
   "cell_type": "code",
   "execution_count": 2,
   "metadata": {},
   "outputs": [
    {
     "name": "stdout",
     "output_type": "stream",
     "text": [
      "Shape of a is (4, 3)\n",
      "Shape of b is (3,)\n",
      "Shape of c is (3, 1)\n",
      "[[ 1  2  3]\n",
      " [11 12 13]\n",
      " [21 22 23]\n",
      " [31 32 33]]\n"
     ]
    }
   ],
   "source": [
    "a = np.array([[0, 0, 0], [10, 10, 10], [20, 20, 20], [30, 30, 30]])\n",
    "b = np.array([1, 2, 3])  # 其中一维为1，自动扩充\n",
    "c = np.array([[1], [2], [3]])\n",
    "print(\"Shape of a is\", a.shape) # 将第一维删去，从末尾算起的维度相同\n",
    "print(\"Shape of b is\", b.shape)\n",
    "print(\"Shape of c is\", c.shape)\n",
    "print(a + b)"
   ]
  },
  {
   "cell_type": "markdown",
   "metadata": {},
   "source": [
    "广播的规则：\n",
    "* 数组拥有相同形状。\n",
    "* 当前维度的值相等。\n",
    "* 当前维度的值有一个是 1。\n",
    "* 让所有输入数组都向其中形状最长的数组看齐，形状中不足的部分都通过在前面加 1 补齐。"
   ]
  },
  {
   "cell_type": "code",
   "execution_count": 5,
   "metadata": {},
   "outputs": [
    {
     "name": "stdout",
     "output_type": "stream",
     "text": [
      "matrix multiplication:\n",
      "[[ 9 12 15]\n",
      " [19 26 33]\n",
      " [29 40 51]]\n",
      "\n",
      "element-wise multiplication:\n",
      "[[ 2  4  6]\n",
      " [ 8 10 12]]\n",
      "[[ 2  4  6]\n",
      " [ 8 10 12]]\n"
     ]
    }
   ],
   "source": [
    "# numpy乘法\n",
    "m1 = np.array([[1, 2], [3, 4], [5, 6]], dtype='i4')\n",
    "m2 = np.array([[1, 2, 3], [4, 5, 6]], dtype='i4')\n",
    "m3 = np.array([[2, 2, 2], [2, 2, 2]], dtype='i4')\n",
    "\n",
    "# matrix multiplication\n",
    "print(\"matrix multiplication:\")\n",
    "print(np.dot(m1, m2))\n",
    "print()\n",
    "\n",
    "# element-wise multiplication\n",
    "print(\"element-wise multiplication:\")\n",
    "print(np.multiply(m2, m3))\n",
    "print(m2 * m3)"
   ]
  },
  {
   "cell_type": "markdown",
   "metadata": {},
   "source": [
    "## NumPy 迭代数组"
   ]
  },
  {
   "cell_type": "code",
   "execution_count": 24,
   "metadata": {},
   "outputs": [
    {
     "name": "stdout",
     "output_type": "stream",
     "text": [
      "原始数组是：\n",
      "[[0 1 2]\n",
      " [3 4 5]]\n",
      "\n",
      "\n",
      "迭代输出元素：\n",
      "0, 1, 2, 3, 4, 5, \n",
      "\n"
     ]
    }
   ],
   "source": [
    "a = np.arange(6).reshape(2,3)\n",
    "print ('原始数组是：')\n",
    "print (a)\n",
    "print ('\\n')\n",
    "print ('迭代输出元素：')\n",
    "for x in np.nditer(a): # 将数组迭代\n",
    "    print (x, end=\", \" )\n",
    "print ('\\n')"
   ]
  },
  {
   "cell_type": "code",
   "execution_count": 25,
   "metadata": {},
   "outputs": [
    {
     "name": "stdout",
     "output_type": "stream",
     "text": [
      "第一个数组为：\n",
      "[[ 0  5 10 15]\n",
      " [20 25 30 35]\n",
      " [40 45 50 55]]\n",
      "\n",
      "\n",
      "第二个数组为：\n",
      "[1 2 3 4]\n",
      "\n",
      "\n",
      "修改后的数组为：\n",
      "(0:1), (5:2), (10:3), (15:4), (20:1), (25:2), (30:3), (35:4), (40:1), (45:2), (50:3), (55:4), "
     ]
    }
   ],
   "source": [
    "a = np.arange(0,60,5) \n",
    "a = a.reshape(3,4)  \n",
    "print  ('第一个数组为：')\n",
    "print (a)\n",
    "print  ('\\n')\n",
    "print ('第二个数组为：')\n",
    "b = np.array([1,  2,  3,  4], dtype =  int)  \n",
    "print (b)\n",
    "print ('\\n')\n",
    "print ('修改后的数组为：')\n",
    "for x,y in np.nditer([a,b]):  # 若两个数组可广播，则可同时迭代\n",
    "    print (\"(%d:%d)\"  %  (x,y), end=\", \" )"
   ]
  },
  {
   "cell_type": "markdown",
   "metadata": {},
   "source": [
    "## 数组操作\n",
    "* 修改数组形状: np.reshape(array, newshape, order='C')\n",
    "* 翻转数组: np.transpose(array, axes)/array.T, np.swapaxes(array, axis1, axis2)\n",
    "* 修改数组维度: np.squeeze(array, axis)\n",
    "* 连接与分割数组: np.concatenate((array1, array2,...), axis), np.split(array, indices_or_sections, axis)\n",
    "* 数组元素的添加与删除: resize, append, insert, delete  \n",
    "具体操作请点击[数组操作详解](https://www.runoob.com/numpy/numpy-array-manipulation.html#numpy_oparr1)"
   ]
  },
  {
   "cell_type": "markdown",
   "metadata": {},
   "source": [
    "## NumPy 数学函数"
   ]
  },
  {
   "cell_type": "markdown",
   "metadata": {},
   "source": [
    "* 三角函数：np.sin(), np.arcsin(), np.degrees()（弧度->角度）\n",
    "* 舍入函数：np.around(a, decimals)（四舍五入）, np.floor(), np.ceil()\n",
    "* 算数函数：np.add(), np.substract(), np.multiply(), np.divide(), np.reciprocal()（返回倒数）, np.power(), np.mod()（符合广播规则）, np.exp()（以e为底）, np.sqrt(), np.power()\n",
    "* 统计函数：np.amin(a, 0), np.amax(), np.ptp()（极差）, np.percentile(a, q, axis)（百分位数，q=50时为中位数）, np.median()（中位数）, np.mean(a, axis=0), np.average(a, weight=[1]), np.std()（标准差）, np.var()（方差）\n",
    "* 特殊值：np.pi"
   ]
  },
  {
   "cell_type": "markdown",
   "metadata": {},
   "source": [
    "### 线性代数\n",
    "* np.dot()：两个数组点积\n",
    "* np.multiply(): 两个数组逐元素相乘(element-wise)\n",
    "* np.vdot()：两个向量点积（若高维则展开）\n",
    "* np.inner()：两个数组的内积"
   ]
  },
  {
   "cell_type": "markdown",
   "metadata": {},
   "source": [
    "# Pandas"
   ]
  },
  {
   "cell_type": "markdown",
   "metadata": {},
   "source": [
    "一个字典型numpy，具有两种数据类型：Series和DataFrame。DataFrame的元素以列为基础，\n",
    "直接索引df\\[0\\]则返回第0列（若无KeyError）"
   ]
  },
  {
   "cell_type": "code",
   "execution_count": 2,
   "metadata": {},
   "outputs": [],
   "source": [
    "import pandas as pd"
   ]
  },
  {
   "cell_type": "markdown",
   "metadata": {},
   "source": [
    "## 初始化\n",
    "\n",
    "Pandas的两种数据类型都有两种初始化方式：列表/矩阵 + 字典。除此之外可以直接由numpy的\n",
    "array类型导入生成。"
   ]
  },
  {
   "cell_type": "code",
   "execution_count": 7,
   "metadata": {},
   "outputs": [
    {
     "name": "stdout",
     "output_type": "stream",
     "text": [
      "0    11\n",
      "1    22\n",
      "2    33\n",
      "dtype: int64 \n",
      "\n",
      "          0         1         2         3\n",
      "0 -0.733082 -0.085292  0.635075  0.844426\n",
      "1  0.370180  0.624115 -0.274262  1.890738\n",
      "2 -0.663539  0.109554  1.084778  0.872761 \n",
      "\n",
      "A    11\n",
      "B    22\n",
      "C    33\n",
      "dtype: int64 \n",
      "\n",
      "   D  E  F\n",
      "0  1  2  3\n",
      "1  2  3  4\n",
      "2  3  4  5 \n",
      "\n",
      "D    int64\n",
      "E    int64\n",
      "F    int64\n",
      "dtype: object \n",
      "\n"
     ]
    },
    {
     "data": {
      "text/plain": [
       "DatetimeIndex(['2020-10-01', '2020-10-02', '2020-10-03', '2020-10-04',\n",
       "               '2020-10-05', '2020-10-06', '2020-10-07'],\n",
       "              dtype='datetime64[ns]', freq='D')"
      ]
     },
     "execution_count": 7,
     "metadata": {},
     "output_type": "execute_result"
    }
   ],
   "source": [
    "# initialization\n",
    "# list\n",
    "s1 = pd.Series([11, 22, 33])\n",
    "df1 = pd.DataFrame(np.random.randn(3, 4))\n",
    "print(s1, '\\n')\n",
    "print(df1, '\\n')\n",
    "\n",
    "# dictionary\n",
    "s2 = pd.Series({'A': 11, 'B': 22, 'C': 33})\n",
    "df2 = pd.DataFrame({'D': [1, 2, 3], 'E': [2, 3, 4], 'F': [3, 4, 5]})\n",
    "print(s2, '\\n')\n",
    "print(df2, '\\n')\n",
    "print(df2.dtypes, '\\n')\n",
    "\n",
    "# some data type\n",
    "dates = pd.date_range('20201001', periods=7)\n",
    "dates"
   ]
  },
  {
   "cell_type": "markdown",
   "metadata": {},
   "source": [
    "## 属性与方法\n",
    "\n",
    "| 名称 | 含义 |\n",
    "| :-: | :-: |\n",
    "| df.dtypes | 返回df每一列的数据类型 |\n",
    "| df.index | 返回df每一行的下标 |\n",
    "| df.columns | 返回df每一列的下标 |\n",
    "| df.values | 返回所有元素的值 |\n",
    "| df.decribe() | 返回df的信息（可能会省略字符） |\n",
    "| df.T | 转置（数学运算） |\n",
    "| df.sort_index(axis=0, ascending=False, inplace=False) | 倒序对行下标排序 |\n",
    "| df.sort_values(by='column', axis=0, ascending=True) | 对单列/列的值进行排序 |"
   ]
  },
  {
   "cell_type": "markdown",
   "metadata": {},
   "source": [
    "## 数据选择与赋值\n",
    "\n",
    "* 使用下标索引：df\\['A'\\], df\\[0: 3\\] -> \\[column/row\\]，即先搜索列再搜索行下标\n",
    "* 使用loc方法(select by label)：df.loc\\['A'\\]('A'行), df.loc\\[:, \\['A', 'B'\\]\\]('A', 'B'列) $\\Rightarrow$ loc方法的下标索引为\\[row, column\\]\n",
    "* 使用iloc方法(select by position, even though there may be labels): df.iloc\\[3\\](第3行), df.iloc\\[\\[1, 3\\], 2:\\]\n",
    "* 混合选择(mixed selection): df.ix\\[:3, \\['A', 'C'\\]\\](**已删除**)\n",
    "* 语法糖：df\\[df\\['A'\\] > 0\\](获取df\\['A'\\]列大于0的元素的下标，再以该下标对df索引)\n",
    "$\\Rightarrow$ df\\['A'\\] > 0返回一个大小与df\\['A'\\]相同的boolean向量\n",
    "\n",
    "<font color='red'>注意：若df无label为'F'的列，则使用df\\['F'\\]会导致`KeyError`，直接赋值df\\['F'\\]会新增label为'F'的新列。</font>单个元素赋值与修改基于数据选择改变即可。"
   ]
  },
  {
   "cell_type": "markdown",
   "metadata": {},
   "source": [
    "## 处理丢失数据"
   ]
  },
  {
   "cell_type": "markdown",
   "metadata": {},
   "source": [
    "在实际数据收集中可能存在数据丢失的情况，因此处理丢失数据也是一门学问。\n",
    "假设丢失数据的位置均用`np.nan`填充。"
   ]
  },
  {
   "cell_type": "markdown",
   "metadata": {},
   "source": [
    "* `df.dropna(axis=0, how={'any', 'all'})`: 删除含有nan的行\n",
    "* `df.fillna(value=0)`: 将nan填充为0\n",
    "* `df.isnull()`: 返回一个与df形状相同的矩阵，在nan处返回True\n",
    "* `np.any(df.isnull()) == True`: 判断df中是否至少有一个nan"
   ]
  },
  {
   "cell_type": "code",
   "execution_count": 5,
   "metadata": {},
   "outputs": [
    {
     "name": "stdout",
     "output_type": "stream",
     "text": [
      "             A     B     C   D\n",
      "2020-10-01   0   NaN   2.0   3\n",
      "2020-10-02   4   5.0   NaN   7\n",
      "2020-10-03   8   9.0  10.0  11\n",
      "2020-10-04  12  13.0  14.0  15\n",
      "2020-10-05  16  17.0  18.0  19\n",
      "2020-10-06  20  21.0  22.0  23 \n",
      "\n",
      "             A     B     C   D\n",
      "2020-10-03   8   9.0  10.0  11\n",
      "2020-10-04  12  13.0  14.0  15\n",
      "2020-10-05  16  17.0  18.0  19\n",
      "2020-10-06  20  21.0  22.0  23\n"
     ]
    }
   ],
   "source": [
    "dates = pd.date_range('20201001', periods=6)\n",
    "df = pd.DataFrame(np.arange(24).reshape((6, 4)), index=dates, columns=['A', 'B', 'C', 'D'])\n",
    "df.iloc[0, 1] = np.nan\n",
    "df.iloc[1, 2] = np.nan\n",
    "print(df, '\\n')\n",
    "print(df.dropna(axis=0, how='any'))\n",
    "print"
   ]
  },
  {
   "cell_type": "markdown",
   "metadata": {},
   "source": [
    "## 导入导出数据"
   ]
  },
  {
   "cell_type": "markdown",
   "metadata": {},
   "source": [
    "Pandas的I/O API支持读入以下文件类型：csv, excel, hdf, sql, json, msgpack, html, gbq, pickle...，调用方式为`df = pd.read_<file_type>`，保存方式为`df.to_<file_type>`:\n",
    "\n",
    "* `pd.read_<file_type>(filepath_or_buffer, sep=',')`\n",
    "* `df.to_<file_type>(filepath_or_buffer)`"
   ]
  },
  {
   "cell_type": "markdown",
   "metadata": {},
   "source": [
    "## DataFrame操作"
   ]
  },
  {
   "cell_type": "markdown",
   "metadata": {},
   "source": [
    "DataFrame包含以下操作：\n",
    "\n",
    "* `pd.concat([df1, df2], axis=0, ignore_index=True)`: 纵向合并(vertically)\n",
    "* `pd.concat([df1, df2], axis=0, join={'outer', 'inner'})`: 当出现label部分重合时，使用'outer'会强行合并并产生NaN，使用'inner'则只合并相同的列/行\n",
    "* `pd.concat([df1, df2], axis=1, join_index=[df1.index])`: 当横向的坐标不同时，以df1的横坐标为标准，忽略df2多出的index并填充NaN；否则直接合并并填充大量NaN\n",
    "* `df1.append([s1, df2], ignore_index=True)`: pandas中一般列为一种属性，行为一个数据点，因此加数据时一般为纵向加一行数据\n",
    "\n",
    "将DataFrame转换为Array:\n",
    "\n",
    "* `df.values`\n",
    "* `np.array(df)`"
   ]
  },
  {
   "cell_type": "code",
   "execution_count": null,
   "metadata": {},
   "outputs": [],
   "source": []
  }
 ],
 "metadata": {
  "kernelspec": {
   "display_name": "Python 3",
   "language": "python",
   "name": "python3"
  },
  "language_info": {
   "codemirror_mode": {
    "name": "ipython",
    "version": 3
   },
   "file_extension": ".py",
   "mimetype": "text/x-python",
   "name": "python",
   "nbconvert_exporter": "python",
   "pygments_lexer": "ipython3",
   "version": "3.7.6"
  }
 },
 "nbformat": 4,
 "nbformat_minor": 4
}
